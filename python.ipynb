{
  "nbformat": 4,
  "nbformat_minor": 0,
  "metadata": {
    "colab": {
      "provenance": [],
      "authorship_tag": "ABX9TyNVNMK4zyT/7IChYml2c7ym",
      "include_colab_link": true
    },
    "kernelspec": {
      "name": "python3",
      "display_name": "Python 3"
    },
    "language_info": {
      "name": "python"
    }
  },
  "cells": [
    {
      "cell_type": "markdown",
      "metadata": {
        "id": "view-in-github",
        "colab_type": "text"
      },
      "source": [
        "<a href=\"https://colab.research.google.com/github/Himalayansk/Himalayan/blob/main/python.ipynb\" target=\"_parent\"><img src=\"https://colab.research.google.com/assets/colab-badge.svg\" alt=\"Open In Colab\"/></a>"
      ]
    },
    {
      "cell_type": "code",
      "execution_count": null,
      "metadata": {
        "id": "sbxu5ufS8KAf"
      },
      "outputs": [],
      "source": [
        "# prompt: write a code to implement simulation of DNS using UDP sockets\n",
        "\n",
        "import socket\n",
        "import random\n",
        "\n",
        "def dns_server(port):\n",
        "    sock = socket.socket(socket.AF_INET, socket.SOCK_DGRAM)\n",
        "    sock.bind(('', port))\n",
        "    print(f\"DNS server started on port {port}\")\n",
        "\n",
        "    dns_records = {\n",
        "        \"www.example.com\": \"192.168.1.100\",\n",
        "        \"mail.example.com\": \"192.168.1.101\",\n",
        "        \"api.example.com\": \"192.168.1.102\"\n",
        "    }\n",
        "\n",
        "    while True:\n",
        "        data, addr = sock.recvfrom(1024)\n",
        "        hostname = data.decode().strip()\n",
        "        print(f\"Received request for {hostname} from {addr}\")\n",
        "\n",
        "        if hostname in dns_records:\n",
        "            ip_address = dns_records[hostname]\n",
        "            sock.sendto(ip_address.encode(), addr)\n",
        "            print(f\"Sent IP address {ip_address} for {hostname}\")\n",
        "        else:\n",
        "          #Simulate random IP for unknown host\n",
        "            random_ip = f\"192.168.1.{random.randint(103, 200)}\" #Random IP in range for demo\n",
        "            sock.sendto(random_ip.encode(), addr)\n",
        "            print(f\"Sent random IP address {random_ip} for unknown host {hostname}\")\n",
        "\n",
        "\n",
        "def dns_client(hostname, port, server_address):\n",
        "    sock = socket.socket(socket.AF_INET, socket.SOCK_DGRAM)\n",
        "    sock.sendto(hostname.encode(), (server_address, port))\n",
        "    data, addr = sock.recvfrom(1024)\n",
        "    ip_address = data.decode()\n",
        "    print(f\"IP address for {hostname}: {ip_address}\")\n",
        "\n",
        "\n",
        "if __name__ == \"__main__\":\n",
        "    import threading\n",
        "\n",
        "    server_port = 53533 #Use a non-privileged port\n",
        "    server_thread = threading.Thread(target=dns_server, args=(server_port,))\n",
        "    server_thread.start()\n",
        "\n",
        "    #Example client usage\n",
        "    client_hostname = \"www.example.com\"\n",
        "    dns_client(client_hostname, server_port, '127.0.0.1') #localhost\n",
        "\n",
        "    client_hostname = \"mail.example.com\"\n",
        "    dns_client(client_hostname, server_port, '127.0.0.1') #localhost\n",
        "\n",
        "    client_hostname = \"unknown.example.com\"\n",
        "    dns_client(client_hostname, server_port, '127.0.0.1') #localhost\n",
        "\n",
        "    # Keep the main thread alive so the server continues running (until manually stopped)\n",
        "    server_thread.join()"
      ]
    },
    {
      "cell_type": "code",
      "source": [
        "import socket\n",
        "dns_table={\"www.google.com\",\"192.168.0.1\",\"www.amazon.com\",\"192.168.0.2\"}\n",
        "s=socket.socket(socket.AF_INET,socket.SOCK_DGRAM)\n",
        "print(\"starting server...\")\n",
        "a.bind([\"127.0.0.1\",1234])\n",
        "while true:\n",
        "  data,address=s.receivefrom(1024)\n",
        "  print(\"%s want to fetch data\"%(address))\n",
        "  data=data.decode()\n",
        "  ip=dns_table.get(data,\"Not Found!\").encode()\n",
        "  send=s.sendto(ip,address)\n",
        "  print(\"data sent\")\n",
        "  s.close()"
      ],
      "metadata": {
        "colab": {
          "base_uri": "https://localhost:8080/",
          "height": 228
        },
        "id": "Krgn7f1S8gjM",
        "outputId": "78dba1cb-c529-41cd-fe69-6de50c0ce140"
      },
      "execution_count": 1,
      "outputs": [
        {
          "output_type": "stream",
          "name": "stdout",
          "text": [
            "starting server...\n"
          ]
        },
        {
          "output_type": "error",
          "ename": "NameError",
          "evalue": "name 'a' is not defined",
          "traceback": [
            "\u001b[0;31m---------------------------------------------------------------------------\u001b[0m",
            "\u001b[0;31mNameError\u001b[0m                                 Traceback (most recent call last)",
            "\u001b[0;32m<ipython-input-1-753e36afe0ed>\u001b[0m in \u001b[0;36m<cell line: 5>\u001b[0;34m()\u001b[0m\n\u001b[1;32m      3\u001b[0m \u001b[0ms\u001b[0m\u001b[0;34m=\u001b[0m\u001b[0msocket\u001b[0m\u001b[0;34m.\u001b[0m\u001b[0msocket\u001b[0m\u001b[0;34m(\u001b[0m\u001b[0msocket\u001b[0m\u001b[0;34m.\u001b[0m\u001b[0mAF_INET\u001b[0m\u001b[0;34m,\u001b[0m\u001b[0msocket\u001b[0m\u001b[0;34m.\u001b[0m\u001b[0mSOCK_DGRAM\u001b[0m\u001b[0;34m)\u001b[0m\u001b[0;34m\u001b[0m\u001b[0;34m\u001b[0m\u001b[0m\n\u001b[1;32m      4\u001b[0m \u001b[0mprint\u001b[0m\u001b[0;34m(\u001b[0m\u001b[0;34m\"starting server...\"\u001b[0m\u001b[0;34m)\u001b[0m\u001b[0;34m\u001b[0m\u001b[0;34m\u001b[0m\u001b[0m\n\u001b[0;32m----> 5\u001b[0;31m \u001b[0ma\u001b[0m\u001b[0;34m.\u001b[0m\u001b[0mbind\u001b[0m\u001b[0;34m(\u001b[0m\u001b[0;34m[\u001b[0m\u001b[0;34m\"127.0.0.1\"\u001b[0m\u001b[0;34m,\u001b[0m\u001b[0;36m1234\u001b[0m\u001b[0;34m]\u001b[0m\u001b[0;34m)\u001b[0m\u001b[0;34m\u001b[0m\u001b[0;34m\u001b[0m\u001b[0m\n\u001b[0m\u001b[1;32m      6\u001b[0m \u001b[0;32mwhile\u001b[0m \u001b[0mtrue\u001b[0m\u001b[0;34m:\u001b[0m\u001b[0;34m\u001b[0m\u001b[0;34m\u001b[0m\u001b[0m\n\u001b[1;32m      7\u001b[0m   \u001b[0mdata\u001b[0m\u001b[0;34m,\u001b[0m\u001b[0maddress\u001b[0m\u001b[0;34m=\u001b[0m\u001b[0ms\u001b[0m\u001b[0;34m.\u001b[0m\u001b[0mreceivefrom\u001b[0m\u001b[0;34m(\u001b[0m\u001b[0;36m1024\u001b[0m\u001b[0;34m)\u001b[0m\u001b[0;34m\u001b[0m\u001b[0;34m\u001b[0m\u001b[0m\n",
            "\u001b[0;31mNameError\u001b[0m: name 'a' is not defined"
          ]
        }
      ]
    },
    {
      "cell_type": "code",
      "source": [
        "import socket\n",
        "\n",
        "dns_table = {\"www.google.com\": \"192.168.0.1\", \"www.amazon.com\": \"192.168.0.2\"}  # Define dns_table as a dictionary\n",
        "s = socket.socket(socket.AF_INET, socket.SOCK_DGRAM)\n",
        "print(\"starting server...\")\n",
        "s.bind((\"127.0.0.1\", 1234))\n",
        "while True:\n",
        "    data, address = s.recvfrom(1024)\n",
        "    print(\"%s want to fetch data\" % (address))\n",
        "    data = data.decode()\n",
        "    ip = dns_table.get(data, \"Not Found!\").encode()\n",
        "    send = s.sendto(ip, address)\n",
        "    print(\"data sent\")\n",
        "\n",
        "s.close()"
      ],
      "metadata": {
        "colab": {
          "base_uri": "https://localhost:8080/"
        },
        "id": "kpf3rphI-fGx",
        "outputId": "46471d61-1062-4e55-9711-5cdd875bbd3c"
      },
      "execution_count": null,
      "outputs": [
        {
          "output_type": "stream",
          "name": "stdout",
          "text": [
            "starting server...\n"
          ]
        }
      ]
    },
    {
      "cell_type": "code",
      "source": [
        "import socket\n",
        "hostname=socket.gethostname()\n",
        "ip=\"127.0.0.1\"\n",
        "s=socket.socket(socket.AF_INET,socket.SOCK_DGRAM)\n",
        "address=(ip,1234)\n",
        "c=\"y\"\n",
        "while c.upper()==\"y\":\n",
        "    req_domain=input(\"enter domain name which the ip is needed\")\n",
        "    send=s.sendto(req_domain.encode(),address)\n",
        "\n",
        "    data,address=s.recvfrom(1024)\n",
        "    reply_ip=data.decode().strip()\n",
        "\n",
        "    print(\"the ip for the domain name[%s]:%s\"%(req_domain,reply_ip))\n",
        "\n",
        "    c=input(\"continue?(y/n)\")\n",
        "s.close()"
      ],
      "metadata": {
        "id": "Xp5H21gM-7Fw"
      },
      "execution_count": 6,
      "outputs": []
    }
  ]
}